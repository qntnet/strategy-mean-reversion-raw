{
 "cells": [
  {
   "cell_type": "markdown",
   "metadata": {},
   "source": [
    "# Mean-Reversion Submission Raw Template\n",
    "\n",
    "This simple template provides the shortest and quickest implementation of the strategy explained in the 10-minute Mean-Reversion Template."
   ]
  },
  {
   "cell_type": "code",
   "execution_count": null,
   "metadata": {},
   "outputs": [],
   "source": [
    "import xarray as xr\n",
    "import qnt.data as qndata\n",
    "\n",
    "data = qndata.load_data(min_date=\"2015-01-01\",\n",
    "                        dims=(\"time\", \"field\", \"asset\"))\n",
    "\n",
    "is_liquid = data.loc[::-1,\"is_liquid\",:]\n",
    "\n",
    "prices = data.loc[::-1,\"close\",:]\n",
    "avg_prices = prices.rolling({\"time\":100}).mean()\n",
    "\n",
    "prices_shifted = prices.shift({\"time\":1})\n",
    "returns = (abs((prices - prices_shifted)/prices_shifted).rolling({\"time\":10}).mean())\n",
    "\n",
    "go_long = (prices < avg_prices * (1.0-returns)).astype(int)\n",
    "go_short = (prices > avg_prices * (1.0+returns)).astype(int)\n",
    "\n",
    "liq_avg_returns = (is_liquid > 0.0).astype(int)*(go_long-go_short)\n",
    "\n",
    "weights = liq_avg_returns / abs(liq_avg_returns).sum(\"asset\")\n",
    "weights = weights.fillna(0.0)\n",
    "\n",
    "qndata.write_output(weights)"
   ]
  }
 ],
 "metadata": {
  "kernelspec": {
   "display_name": "Python 3",
   "language": "python",
   "name": "python3"
  },
  "language_info": {
   "codemirror_mode": {
    "name": "ipython",
    "version": 3
   },
   "file_extension": ".py",
   "mimetype": "text/x-python",
   "name": "python",
   "nbconvert_exporter": "python",
   "pygments_lexer": "ipython3",
   "version": "3.7.2"
  }
 },
 "nbformat": 4,
 "nbformat_minor": 2
}
